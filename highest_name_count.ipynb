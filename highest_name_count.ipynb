{
 "cells": [
  {
   "cell_type": "code",
   "execution_count": null,
   "metadata": {
    "collapsed": true
   },
   "outputs": [],
   "source": [
    "top_male_names = []\n",
    "male_name_counts = {}\n",
    "for name in legislators:\n",
    "    if name[3] == \"M\" and name[7] > 1940:\n",
    "        name_1 = name[1]\n",
    "        if name_1 in male_name_counts:\n",
    "            male_name_counts[name_1] = male_name_counts[name_1] + 1\n",
    "        else:\n",
    "            male_name_counts[name_1] = 1\n",
    "highest_male_count = None\n",
    "for name_2,count in male_name_counts.items():\n",
    "    if highest_male_count is None or count > highest_male_count:\n",
    "        highest_male_count = count\n",
    "        \n",
    "for name, count in male_name_counts.items():\n",
    "    if count == highest_male_count:\n",
    "        top_male_names.append(name)\n",
    "    \n",
    "            \n",
    "            "
   ]
  }
 ],
 "metadata": {
  "kernelspec": {
   "display_name": "Python 3",
   "language": "python",
   "name": "python3"
  },
  "language_info": {
   "codemirror_mode": {
    "name": "ipython",
    "version": 3
   },
   "file_extension": ".py",
   "mimetype": "text/x-python",
   "name": "python",
   "nbconvert_exporter": "python",
   "pygments_lexer": "ipython3",
   "version": "3.6.1"
  }
 },
 "nbformat": 4,
 "nbformat_minor": 2
}
